{
 "metadata": {
  "name": "",
  "signature": "sha256:5c4ab96a53a7cf266b8472cad2780d9feacd85328f2121b03e6ff9c85c6d28da"
 },
 "nbformat": 3,
 "nbformat_minor": 0,
 "worksheets": [
  {
   "cells": [
    {
     "cell_type": "code",
     "collapsed": false,
     "input": [
      "contestPath = '../assets/data/7/submitions.html'"
     ],
     "language": "python",
     "metadata": {},
     "outputs": [],
     "prompt_number": 202
    },
    {
     "cell_type": "code",
     "collapsed": false,
     "input": [
      "from xml.dom import minidom\n",
      "from dateutil.parser import parse\n",
      "import re"
     ],
     "language": "python",
     "metadata": {},
     "outputs": [],
     "prompt_number": 203
    },
    {
     "cell_type": "code",
     "collapsed": false,
     "input": [
      "dom = minidom.parse(contestPath)"
     ],
     "language": "python",
     "metadata": {},
     "outputs": [],
     "prompt_number": 204
    },
    {
     "cell_type": "code",
     "collapsed": false,
     "input": [
      "contestantDom = dom.getElementsByTagName('tr')"
     ],
     "language": "python",
     "metadata": {},
     "outputs": [],
     "prompt_number": 206
    },
    {
     "cell_type": "code",
     "collapsed": false,
     "input": [
      "problemsDom = contestantDom[0]\n",
      "problems = [x.firstChild.data for x in problemsDom.getElementsByTagName('th')][2:-2]"
     ],
     "language": "python",
     "metadata": {},
     "outputs": [],
     "prompt_number": 214
    },
    {
     "cell_type": "code",
     "collapsed": false,
     "input": [
      "contestantsDom = contestantDom[1:]"
     ],
     "language": "python",
     "metadata": {},
     "outputs": [],
     "prompt_number": 216
    },
    {
     "cell_type": "code",
     "collapsed": false,
     "input": [
      "hailoDom = contestantsDom[0]\n",
      "def parseDom(dom):\n",
      "    return [x.firstChild.data for x in dom.getElementsByTagName('td')[1:-2]]"
     ],
     "language": "python",
     "metadata": {},
     "outputs": [],
     "prompt_number": 224
    },
    {
     "cell_type": "code",
     "collapsed": false,
     "input": [
      "scoreboard = map(parseDom, contestantsDom)"
     ],
     "language": "python",
     "metadata": {},
     "outputs": [],
     "prompt_number": 226
    },
    {
     "cell_type": "code",
     "collapsed": false,
     "input": [
      "handle = [x[0] for x in scoreboard]\n",
      "handle"
     ],
     "language": "python",
     "metadata": {},
     "outputs": [
      {
       "metadata": {},
       "output_type": "pyout",
       "prompt_number": 231,
       "text": [
        "[u'Jose Mallma Leon',\n",
        " u'Enrique',\n",
        " u'Robert Alonso',\n",
        " u'Rodrigo Horruitiner',\n",
        " u'Oscar Vega Huayanay',\n",
        " u'Jesus',\n",
        " u'Keyvhinng',\n",
        " u'Sebasti\\xe1n',\n",
        " u'Paul Luyo',\n",
        " u'Jesus Figueroa Curo',\n",
        " u'Juanjose Tenorio',\n",
        " u'Daniel',\n",
        " u'Angel Napa',\n",
        " u'Rodrigo L\\xf3pez']"
       ]
      }
     ],
     "prompt_number": 231
    },
    {
     "cell_type": "code",
     "collapsed": false,
     "input": [
      "def genSubmitions(substr):\n",
      "    if substr == '-':\n",
      "        return None\n",
      "    else:\n",
      "        sp = substr.split()\n",
      "        last = sp[-1]\n",
      "        times = int(re.findall('\\d+', last)[0])\n",
      "        datestr = ' '.join(sp[:-1])\n",
      "        if not datestr:\n",
      "            return None\n",
      "        return (datestr, times)"
     ],
     "language": "python",
     "metadata": {},
     "outputs": [],
     "prompt_number": 283
    },
    {
     "cell_type": "code",
     "collapsed": false,
     "input": [
      "begin"
     ],
     "language": "python",
     "metadata": {},
     "outputs": [
      {
       "ename": "NameError",
       "evalue": "name 'begin' is not defined",
       "output_type": "pyerr",
       "traceback": [
        "\u001b[0;31m---------------------------------------------------------------------------\u001b[0m\n\u001b[0;31mNameError\u001b[0m                                 Traceback (most recent call last)",
        "\u001b[0;32m<ipython-input-284-cc4922508743>\u001b[0m in \u001b[0;36m<module>\u001b[0;34m()\u001b[0m\n\u001b[0;32m----> 1\u001b[0;31m \u001b[0mbegin\u001b[0m\u001b[0;34m\u001b[0m\u001b[0m\n\u001b[0m",
        "\u001b[0;31mNameError\u001b[0m: name 'begin' is not defined"
       ]
      }
     ],
     "prompt_number": 284
    },
    {
     "cell_type": "code",
     "collapsed": false,
     "input": [
      "submissions = []\n",
      "for row in scoreboard:\n",
      "    name = row[0]\n",
      "    for idx, problemStr in enumerate(row[1:]):\n",
      "        sub = genSubmitions(problemStr)\n",
      "        if sub:\n",
      "            date = sub[0]\n",
      "            watimes = sub[0]\n",
      "            submissions.append(Submition(\n",
      "               handle = name,\n",
      "               veredict = Veredict.getVeredict('accepted'),\n",
      "               problem = problems[idx],\n",
      "               seconds = (parse(date) - parse('2014-09-11 19:00:00')).total_seconds()\n",
      "            ))"
     ],
     "language": "python",
     "metadata": {},
     "outputs": [],
     "prompt_number": 293
    },
    {
     "cell_type": "code",
     "collapsed": false,
     "input": [
      "submissions.sort(key= lambda x: x.seconds)"
     ],
     "language": "python",
     "metadata": {},
     "outputs": [],
     "prompt_number": 295
    },
    {
     "cell_type": "code",
     "collapsed": false,
     "input": [],
     "language": "python",
     "metadata": {},
     "outputs": []
    },
    {
     "cell_type": "code",
     "collapsed": false,
     "input": [
      "[x.toxml() for x in first]\n"
     ],
     "language": "python",
     "metadata": {},
     "outputs": [
      {
       "metadata": {},
       "output_type": "pyout",
       "prompt_number": 163,
       "text": [
        "[u'<td class=\"status_sm\">2014-09-11 21:04:48</td>',\n",
        " u'<td><a href=\"/SP32014O/users/itu/\" title=\"itu\">Rodrigo Horruitiner</a></td>',\n",
        " u'<td><a href=\"/SP32014O/problems/SP714P15/\" title=\"SP714P15\">Problem 15</a></td>',\n",
        " u'<td class=\"statusres\" id=\"statusres_12353936\" manual=\"0\" status=\"15\">      accepted    </td>']"
       ]
      }
     ],
     "prompt_number": 163
    },
    {
     "cell_type": "code",
     "collapsed": false,
     "input": [
      "first[0].firstChild.data"
     ],
     "language": "python",
     "metadata": {},
     "outputs": [
      {
       "metadata": {},
       "output_type": "pyout",
       "prompt_number": 164,
       "text": [
        "u'2014-09-11 21:04:48'"
       ]
      }
     ],
     "prompt_number": 164
    },
    {
     "cell_type": "code",
     "collapsed": false,
     "input": [
      "first[1].firstChild.attributes['title'].value"
     ],
     "language": "python",
     "metadata": {},
     "outputs": [
      {
       "metadata": {},
       "output_type": "pyout",
       "prompt_number": 165,
       "text": [
        "u'itu'"
       ]
      }
     ],
     "prompt_number": 165
    },
    {
     "cell_type": "code",
     "collapsed": false,
     "input": [
      "first[2].firstChild.attributes['title'].value"
     ],
     "language": "python",
     "metadata": {},
     "outputs": [
      {
       "metadata": {},
       "output_type": "pyout",
       "prompt_number": 166,
       "text": [
        "u'SP714P15'"
       ]
      }
     ],
     "prompt_number": 166
    },
    {
     "cell_type": "code",
     "collapsed": false,
     "input": [
      "first[3].firstChild.data.strip()"
     ],
     "language": "python",
     "metadata": {},
     "outputs": [
      {
       "metadata": {},
       "output_type": "pyout",
       "prompt_number": 167,
       "text": [
        "u'accepted'"
       ]
      }
     ],
     "prompt_number": 167
    },
    {
     "cell_type": "code",
     "collapsed": false,
     "input": [
      "def parseRow(first):\n",
      "    data = [\n",
      "        first[0].firstChild.data,\n",
      "        first[1].firstChild.attributes['title'].value,\n",
      "        first[2].firstChild.attributes['title'].value,\n",
      "        first[3].firstChild.data.strip(),\n",
      "    ]\n",
      "    return data"
     ],
     "language": "python",
     "metadata": {},
     "outputs": [],
     "prompt_number": 168
    },
    {
     "cell_type": "code",
     "collapsed": false,
     "input": [
      "submition_list = map(parseRow, data)"
     ],
     "language": "python",
     "metadata": {},
     "outputs": [],
     "prompt_number": 169
    },
    {
     "cell_type": "code",
     "collapsed": false,
     "input": [
      "from contest import Contest\n",
      "from contestant import Submition\n",
      "from contestant import Veredict"
     ],
     "language": "python",
     "metadata": {},
     "outputs": [],
     "prompt_number": 170
    },
    {
     "cell_type": "code",
     "collapsed": false,
     "input": [
      "def toSubmition(row, begin):\n",
      "    return Submition(\n",
      "        handle = row[1],\n",
      "        problem = row[2],\n",
      "        seconds = (parse(row[0]) - begin).total_seconds(),\n",
      "        veredict = Veredict.getVeredict(row[3]),\n",
      "    )"
     ],
     "language": "python",
     "metadata": {},
     "outputs": [],
     "prompt_number": 171
    },
    {
     "cell_type": "code",
     "collapsed": false,
     "input": [
      "toSubmition(submition_list[-1], parse('2014-09-11 20:00:00'))"
     ],
     "language": "python",
     "metadata": {},
     "outputs": [
      {
       "metadata": {},
       "output_type": "pyout",
       "prompt_number": 174,
       "text": [
        "Submition[lucas97, SP714P06, 217.0, 1]"
       ]
      }
     ],
     "prompt_number": 174
    },
    {
     "cell_type": "code",
     "collapsed": false,
     "input": [
      "submitions = map(lambda x: toSubmition(x, parse('2014-09-11 20:00:00')), submition_list)"
     ],
     "language": "python",
     "metadata": {},
     "outputs": [],
     "prompt_number": 176
    },
    {
     "cell_type": "code",
     "collapsed": false,
     "input": [
      "contestants = [s.handle for s in submitions]\n",
      "problems = [s.problem for s in submitions]"
     ],
     "language": "python",
     "metadata": {},
     "outputs": [],
     "prompt_number": 178
    },
    {
     "cell_type": "code",
     "collapsed": false,
     "input": [
      "from collections import OrderedDict\n",
      "contestants = list(OrderedDict.fromkeys(contestants))"
     ],
     "language": "python",
     "metadata": {},
     "outputs": [],
     "prompt_number": 186
    },
    {
     "cell_type": "code",
     "collapsed": false,
     "input": [
      "problems = list(OrderedDict.fromkeys(problems))"
     ],
     "language": "python",
     "metadata": {},
     "outputs": [],
     "prompt_number": 185
    },
    {
     "cell_type": "code",
     "collapsed": false,
     "input": [
      "contest = Contest(contestants, problems)"
     ],
     "language": "python",
     "metadata": {},
     "outputs": [],
     "prompt_number": 184
    },
    {
     "cell_type": "code",
     "collapsed": false,
     "input": [
      "submitions.sort(key=lambda x: x.seconds)"
     ],
     "language": "python",
     "metadata": {},
     "outputs": [],
     "prompt_number": 188
    },
    {
     "cell_type": "code",
     "collapsed": false,
     "input": [
      "def splitEach(time_stream, seconds):\n",
      "    end, start = seconds, 0\n",
      "    ans, cur = [], []\n",
      "    for idx, time in enumerate(time_stream): \n",
      "        if time.seconds > end:\n",
      "            ans.append(cur)\n",
      "            cur = [time]\n",
      "            end += seconds\n",
      "        else: \n",
      "            cur.append(time)\n",
      "    if cur:\n",
      "        ans.append(cur)\n",
      "    return ans"
     ],
     "language": "python",
     "metadata": {},
     "outputs": [],
     "prompt_number": 191
    },
    {
     "cell_type": "code",
     "collapsed": false,
     "input": [
      "map(len, splitEach(submitions, 200))"
     ],
     "language": "python",
     "metadata": {},
     "outputs": [
      {
       "metadata": {},
       "output_type": "pyout",
       "prompt_number": 199,
       "text": [
        "[0, 11, 5, 8, 6, 5, 8, 3, 7, 5, 22, 24, 12, 20, 7, 3, 6, 3, 3, 2]"
       ]
      }
     ],
     "prompt_number": 199
    },
    {
     "cell_type": "code",
     "collapsed": false,
     "input": [
      "submitions[-1]"
     ],
     "language": "python",
     "metadata": {},
     "outputs": [
      {
       "metadata": {},
       "output_type": "pyout",
       "prompt_number": 200,
       "text": [
        "Submition[itu, SP714P15, 3888.0, 1]"
       ]
      }
     ],
     "prompt_number": 200
    },
    {
     "cell_type": "code",
     "collapsed": false,
     "input": [
      "3888.0 /60"
     ],
     "language": "python",
     "metadata": {},
     "outputs": [
      {
       "metadata": {},
       "output_type": "pyout",
       "prompt_number": 201,
       "text": [
        "64.8"
       ]
      }
     ],
     "prompt_number": 201
    },
    {
     "cell_type": "code",
     "collapsed": false,
     "input": [],
     "language": "python",
     "metadata": {},
     "outputs": []
    }
   ],
   "metadata": {}
  }
 ]
}