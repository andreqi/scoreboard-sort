{
 "metadata": {
  "name": "",
  "signature": "sha256:08e6f6d36614a4080ce627ff2a919ce5a63ff5d4de9d53c5e7972e2f95a35881"
 },
 "nbformat": 3,
 "nbformat_minor": 0,
 "worksheets": [
  {
   "cells": [
    {
     "cell_type": "code",
     "collapsed": false,
     "input": [
      "contestPath = '../assets/data/contest3.in'"
     ],
     "language": "python",
     "metadata": {},
     "outputs": [],
     "prompt_number": 1
    },
    {
     "cell_type": "code",
     "collapsed": false,
     "input": [
      "from xml.dom import minidom\n",
      "from dateutil.parser import parse"
     ],
     "language": "python",
     "metadata": {},
     "outputs": [],
     "prompt_number": 2
    },
    {
     "cell_type": "code",
     "collapsed": false,
     "input": [
      "xmldoc = minidom.parse(contestPath)"
     ],
     "language": "python",
     "metadata": {},
     "outputs": [],
     "prompt_number": 3
    },
    {
     "cell_type": "code",
     "collapsed": false,
     "input": [
      "submitions = xmldoc.getElementsByTagName('tr')"
     ],
     "language": "python",
     "metadata": {},
     "outputs": [],
     "prompt_number": 4
    },
    {
     "cell_type": "code",
     "collapsed": false,
     "input": [
      "def parseRow(row, tag):\n",
      "    data = []\n",
      "    for td in row.getElementsByTagName(tag): \n",
      "        for node in td.childNodes:\n",
      "            if node.nodeType == node.TEXT_NODE:\n",
      "                data.append(node.data)\n",
      "            else:\n",
      "                data.append(node.firstChild.data)\n",
      "    return data"
     ],
     "language": "python",
     "metadata": {},
     "outputs": [],
     "prompt_number": 5
    },
    {
     "cell_type": "code",
     "collapsed": false,
     "input": [
      "labels = parseRow(submitions[0], 'th')"
     ],
     "language": "python",
     "metadata": {},
     "outputs": [],
     "prompt_number": 6
    },
    {
     "cell_type": "code",
     "collapsed": false,
     "input": [
      "data = [parseRow(row, 'td') for row in submitions[1:]]"
     ],
     "language": "python",
     "metadata": {},
     "outputs": [],
     "prompt_number": 7
    },
    {
     "cell_type": "code",
     "collapsed": false,
     "input": [
      "data[-1]"
     ],
     "language": "python",
     "metadata": {},
     "outputs": [
      {
       "metadata": {},
       "output_type": "pyout",
       "prompt_number": 8,
       "text": [
        "[u'160',\n",
        " u'569133',\n",
        " u'13390982',\n",
        " u'kvaleriano',\n",
        " u'P3 - Non-divisible 2-3 Power Sums',\n",
        " u'PKU',\n",
        " u'Accepted',\n",
        " u'C++',\n",
        " u'2014-08-29 00:26:37']"
       ]
      }
     ],
     "prompt_number": 8
    },
    {
     "cell_type": "code",
     "collapsed": false,
     "input": [
      "len(submitions)"
     ],
     "language": "python",
     "metadata": {},
     "outputs": [
      {
       "metadata": {},
       "output_type": "pyout",
       "prompt_number": 9,
       "text": [
        "161"
       ]
      }
     ],
     "prompt_number": 9
    },
    {
     "cell_type": "code",
     "collapsed": false,
     "input": [
      "time = parse('2014-08-29 02:07:21')"
     ],
     "language": "python",
     "metadata": {},
     "outputs": [],
     "prompt_number": 10
    },
    {
     "cell_type": "code",
     "collapsed": false,
     "input": [
      "begin = parse('2014-08-28 21:00:00')"
     ],
     "language": "python",
     "metadata": {},
     "outputs": [],
     "prompt_number": 11
    },
    {
     "cell_type": "code",
     "collapsed": false,
     "input": [
      "(time - begin).total_seconds()/(60*60)"
     ],
     "language": "python",
     "metadata": {},
     "outputs": [
      {
       "metadata": {},
       "output_type": "pyout",
       "prompt_number": 12,
       "text": [
        "5.1225"
       ]
      }
     ],
     "prompt_number": 12
    },
    {
     "cell_type": "code",
     "collapsed": false,
     "input": [
      "times = [(parse(row[-1]) - begin).total_seconds() for row in data]\n",
      "times = sorted(times)"
     ],
     "language": "python",
     "metadata": {},
     "outputs": [],
     "prompt_number": 13
    },
    {
     "cell_type": "code",
     "collapsed": false,
     "input": [
      "def splitEach(time_stream, seconds, get):\n",
      "    end, start = seconds, 0\n",
      "    ans, cur = [], []\n",
      "    for idx, time in enumerate(time_stream): \n",
      "        if get(time) > end:\n",
      "            ans.append(cur)\n",
      "            cur = [time]\n",
      "            end += seconds\n",
      "        else: \n",
      "            cur.append(time)\n",
      "    if cur:\n",
      "        ans.append(cur)\n",
      "    return ans"
     ],
     "language": "python",
     "metadata": {},
     "outputs": [],
     "prompt_number": 25
    },
    {
     "cell_type": "code",
     "collapsed": false,
     "input": [
      "from pylab import *"
     ],
     "language": "python",
     "metadata": {},
     "outputs": [],
     "prompt_number": 15
    },
    {
     "cell_type": "code",
     "collapsed": false,
     "input": [
      "figure()\n",
      "bars = splitEach(times, 30000)\n",
      "bar(range(len(bars)),bars, width=1)\n",
      "ylabel('y')\n",
      "title('title')\n",
      "show()"
     ],
     "language": "python",
     "metadata": {},
     "outputs": [],
     "prompt_number": 16
    },
    {
     "cell_type": "code",
     "collapsed": false,
     "input": [
      "from contest import Contest\n",
      "from contestant import Submition\n",
      "from contestant import Veredict"
     ],
     "language": "python",
     "metadata": {},
     "outputs": [],
     "prompt_number": 17
    },
    {
     "cell_type": "code",
     "collapsed": false,
     "input": [
      "problems = ['P1 - Beavergnaw', 'P2 - Big String', 'P3 - Non-divisible 2-3 Power Sums',\"P4 - Letty's Math Class\",\\\n",
      "'P5 - Signal Box','P6 - Harder Sokoban Problem', 'P7 - Knights of the Round Table','P8 - ABC Path']"
     ],
     "language": "python",
     "metadata": {},
     "outputs": [],
     "prompt_number": 18
    },
    {
     "cell_type": "code",
     "collapsed": false,
     "input": [
      "contestants = ['Slsvcn', 'kvaleriano', 'Hailo', 'jael860', 'Robert_Alonso', 'jafc', 'polomaster', \\\n",
      "               'Gerard901', 'Rxcso', 'itu', 'kirasam', 'juanjo12x', 'The_Blitz', 'Lucas97', 'Dito9', 'Dan212P']\n"
     ],
     "language": "python",
     "metadata": {},
     "outputs": [],
     "prompt_number": 19
    },
    {
     "cell_type": "code",
     "collapsed": false,
     "input": [
      "contest = Contest(contestants, problems)"
     ],
     "language": "python",
     "metadata": {},
     "outputs": [],
     "prompt_number": 20
    },
    {
     "cell_type": "code",
     "collapsed": false,
     "input": [
      "def toSubmition(row, begin):\n",
      "    return Submition(\n",
      "        handle = row[3],\n",
      "        problem = row[4],\n",
      "        seconds = (parse(row[-1]) - begin).total_seconds(),\n",
      "        veredict = Veredict.getVeredict(row[6]),\n",
      "    )"
     ],
     "language": "python",
     "metadata": {},
     "outputs": [],
     "prompt_number": 21
    },
    {
     "cell_type": "code",
     "collapsed": false,
     "input": [
      "from operator import attrgetter"
     ],
     "language": "python",
     "metadata": {},
     "outputs": [],
     "prompt_number": 23
    },
    {
     "cell_type": "code",
     "collapsed": false,
     "input": [
      "submitions = sorted([toSubmition(row, begin) for row in data], key=attrgetter('seconds'))"
     ],
     "language": "python",
     "metadata": {},
     "outputs": [],
     "prompt_number": 24
    },
    {
     "cell_type": "code",
     "collapsed": false,
     "input": [],
     "language": "python",
     "metadata": {},
     "outputs": []
    },
    {
     "cell_type": "code",
     "collapsed": false,
     "input": [
      "for sub in submitions: contest.apply(sub)"
     ],
     "language": "python",
     "metadata": {},
     "outputs": [],
     "prompt_number": 51
    },
    {
     "cell_type": "code",
     "collapsed": false,
     "input": [
      "scoreboard = contest.getScoreboard()"
     ],
     "language": "python",
     "metadata": {},
     "outputs": [],
     "prompt_number": 52
    },
    {
     "cell_type": "code",
     "collapsed": false,
     "input": [
      "sorted(scoreboard, key=lambda x: (-x.solved, x.penalty))"
     ],
     "language": "python",
     "metadata": {},
     "outputs": [
      {
       "metadata": {},
       "output_type": "pyout",
       "prompt_number": 54,
       "text": [
        "[{juanjo12x, 7, 1838118.0},\n",
        " {itu, 6, 1347162.0},\n",
        " {jafc, 5, 932156.0},\n",
        " {Hailo, 5, 940919.0},\n",
        " {kirasam, 5, 2145418.0},\n",
        " {Dito9, 5, 2314600.0},\n",
        " {kvaleriano, 4, 337804.0},\n",
        " {jael860, 4, 550499.0},\n",
        " {Robert_Alonso, 4, 1234090.0},\n",
        " {Rxcso, 4, 1364339.0},\n",
        " {Lucas97, 4, 1446508.0},\n",
        " {The_Blitz, 3, 1363927.0},\n",
        " {Slsvcn, 2, 671265.0},\n",
        " {Dan212P, 1, 530390.0},\n",
        " {polomaster, 0, 0},\n",
        " {Gerard901, 0, 0}]"
       ]
      }
     ],
     "prompt_number": 54
    },
    {
     "cell_type": "code",
     "collapsed": false,
     "input": [
      "530390.0 / 60"
     ],
     "language": "python",
     "metadata": {},
     "outputs": [
      {
       "metadata": {},
       "output_type": "pyout",
       "prompt_number": 44,
       "text": [
        "8839.833333333334"
       ]
      }
     ],
     "prompt_number": 44
    },
    {
     "cell_type": "code",
     "collapsed": false,
     "input": [
      "661665.0 /60"
     ],
     "language": "python",
     "metadata": {},
     "outputs": [
      {
       "metadata": {},
       "output_type": "pyout",
       "prompt_number": 46,
       "text": [
        "11027.75"
       ]
      }
     ],
     "prompt_number": 46
    },
    {
     "cell_type": "code",
     "collapsed": false,
     "input": [
      "671265.0  / 60"
     ],
     "language": "python",
     "metadata": {},
     "outputs": [
      {
       "metadata": {},
       "output_type": "pyout",
       "prompt_number": 55,
       "text": [
        "11187.75"
       ]
      }
     ],
     "prompt_number": 55
    },
    {
     "cell_type": "code",
     "collapsed": false,
     "input": [],
     "language": "python",
     "metadata": {},
     "outputs": []
    }
   ],
   "metadata": {}
  }
 ]
}