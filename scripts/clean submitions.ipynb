{
 "metadata": {
  "name": "",
  "signature": "sha256:60f88fc4d6e96432a64fc1a7c0d0fcb44a991307ee9eeb72ed849bd1a38736ee"
 },
 "nbformat": 3,
 "nbformat_minor": 0,
 "worksheets": [
  {
   "cells": [
    {
     "cell_type": "code",
     "collapsed": false,
     "input": [
      "contestPath = '../assets/data/submitions5.html'"
     ],
     "language": "python",
     "metadata": {},
     "outputs": [],
     "prompt_number": 134
    },
    {
     "cell_type": "code",
     "collapsed": false,
     "input": [
      "from xml.dom import minidom\n",
      "from dateutil.parser import parse"
     ],
     "language": "python",
     "metadata": {},
     "outputs": [],
     "prompt_number": 135
    },
    {
     "cell_type": "code",
     "collapsed": false,
     "input": [
      "xmldoc = minidom.parse(contestPath)"
     ],
     "language": "python",
     "metadata": {},
     "outputs": [],
     "prompt_number": 136
    },
    {
     "cell_type": "code",
     "collapsed": false,
     "input": [
      "submitions = xmldoc.getElementsByTagName('tr')"
     ],
     "language": "python",
     "metadata": {},
     "outputs": [],
     "prompt_number": 137
    },
    {
     "cell_type": "code",
     "collapsed": false,
     "input": [
      "def parseRow(row, tag):\n",
      "    data = []\n",
      "    for td in row.getElementsByTagName(tag): \n",
      "        for node in td.childNodes:\n",
      "            if node.nodeType == node.TEXT_NODE:\n",
      "                data.append(node.data)\n",
      "            else:\n",
      "                data.append(node.firstChild.data)\n",
      "    return data"
     ],
     "language": "python",
     "metadata": {},
     "outputs": [],
     "prompt_number": 138
    },
    {
     "cell_type": "code",
     "collapsed": false,
     "input": [
      "labels = parseRow(submitions[0], 'th')"
     ],
     "language": "python",
     "metadata": {},
     "outputs": [],
     "prompt_number": 139
    },
    {
     "cell_type": "code",
     "collapsed": false,
     "input": [
      "data = [parseRow(row, 'td') for row in submitions[1:]]"
     ],
     "language": "python",
     "metadata": {},
     "outputs": [],
     "prompt_number": 140
    },
    {
     "cell_type": "code",
     "collapsed": false,
     "input": [
      "data[-1]"
     ],
     "language": "python",
     "metadata": {},
     "outputs": [
      {
       "metadata": {},
       "output_type": "pyout",
       "prompt_number": 141,
       "text": [
        "[u'54',\n",
        " u'581626',\n",
        " u'1535381',\n",
        " u'Hailo',\n",
        " u'P8 - Hedge Mazes',\n",
        " u'Live Archive',\n",
        " u'Time limit exceeded',\n",
        " u'C++11',\n",
        " u'2014-09-04 17:29:54']"
       ]
      }
     ],
     "prompt_number": 141
    },
    {
     "cell_type": "code",
     "collapsed": false,
     "input": [
      "len(submitions)"
     ],
     "language": "python",
     "metadata": {},
     "outputs": [
      {
       "metadata": {},
       "output_type": "pyout",
       "prompt_number": 142,
       "text": [
        "55"
       ]
      }
     ],
     "prompt_number": 142
    },
    {
     "cell_type": "code",
     "collapsed": false,
     "input": [
      "def splitEach(time_stream, seconds, get):\n",
      "    end, start = seconds, 0\n",
      "    ans, cur = [], []\n",
      "    for idx, time in enumerate(time_stream): \n",
      "        if get(time) > end:\n",
      "            ans.append(cur)\n",
      "            cur = [time]\n",
      "            end += seconds\n",
      "        else: \n",
      "            cur.append(time)\n",
      "    if cur:\n",
      "        ans.append(cur)\n",
      "    return ans"
     ],
     "language": "python",
     "metadata": {},
     "outputs": [],
     "prompt_number": 146
    },
    {
     "cell_type": "code",
     "collapsed": false,
     "input": [
      "from pylab import *"
     ],
     "language": "python",
     "metadata": {},
     "outputs": [],
     "prompt_number": 147
    },
    {
     "cell_type": "code",
     "collapsed": false,
     "input": [
      "figure()\n",
      "bars = splitEach(times, 30000)\n",
      "bar(range(len(bars)),bars, width=1)\n",
      "ylabel('y')\n",
      "title('title')\n",
      "show()"
     ],
     "language": "python",
     "metadata": {},
     "outputs": [
      {
       "ename": "TypeError",
       "evalue": "splitEach() takes exactly 3 arguments (2 given)",
       "output_type": "pyerr",
       "traceback": [
        "\u001b[0;31m---------------------------------------------------------------------------\u001b[0m\n\u001b[0;31mTypeError\u001b[0m                                 Traceback (most recent call last)",
        "\u001b[0;32m<ipython-input-148-5a609a7a3410>\u001b[0m in \u001b[0;36m<module>\u001b[0;34m()\u001b[0m\n\u001b[1;32m      1\u001b[0m \u001b[0mfigure\u001b[0m\u001b[0;34m(\u001b[0m\u001b[0;34m)\u001b[0m\u001b[0;34m\u001b[0m\u001b[0m\n\u001b[0;32m----> 2\u001b[0;31m \u001b[0mbars\u001b[0m \u001b[0;34m=\u001b[0m \u001b[0msplitEach\u001b[0m\u001b[0;34m(\u001b[0m\u001b[0mtimes\u001b[0m\u001b[0;34m,\u001b[0m \u001b[0;36m30000\u001b[0m\u001b[0;34m)\u001b[0m\u001b[0;34m\u001b[0m\u001b[0m\n\u001b[0m\u001b[1;32m      3\u001b[0m \u001b[0mbar\u001b[0m\u001b[0;34m(\u001b[0m\u001b[0mrange\u001b[0m\u001b[0;34m(\u001b[0m\u001b[0mlen\u001b[0m\u001b[0;34m(\u001b[0m\u001b[0mbars\u001b[0m\u001b[0;34m)\u001b[0m\u001b[0;34m)\u001b[0m\u001b[0;34m,\u001b[0m\u001b[0mbars\u001b[0m\u001b[0;34m,\u001b[0m \u001b[0mwidth\u001b[0m\u001b[0;34m=\u001b[0m\u001b[0;36m1\u001b[0m\u001b[0;34m)\u001b[0m\u001b[0;34m\u001b[0m\u001b[0m\n\u001b[1;32m      4\u001b[0m \u001b[0mylabel\u001b[0m\u001b[0;34m(\u001b[0m\u001b[0;34m'y'\u001b[0m\u001b[0;34m)\u001b[0m\u001b[0;34m\u001b[0m\u001b[0m\n\u001b[1;32m      5\u001b[0m \u001b[0mtitle\u001b[0m\u001b[0;34m(\u001b[0m\u001b[0;34m'title'\u001b[0m\u001b[0;34m)\u001b[0m\u001b[0;34m\u001b[0m\u001b[0m\n",
        "\u001b[0;31mTypeError\u001b[0m: splitEach() takes exactly 3 arguments (2 given)"
       ]
      }
     ],
     "prompt_number": 148
    },
    {
     "cell_type": "code",
     "collapsed": false,
     "input": [
      "from contest import Contest\n",
      "from contestant import Submition\n",
      "from contestant import Veredict"
     ],
     "language": "python",
     "metadata": {},
     "outputs": [],
     "prompt_number": 149
    },
    {
     "cell_type": "code",
     "collapsed": false,
     "input": [
      "problems = [\"P1 - Two Teams\",\n",
      "\"P2 - Erdos Numbers\",\n",
      "\"P3 - The Largest Clique\",\n",
      "\"P4 - Airports\",\n",
      "\"P5 - Strange People\",\n",
      "\"P6 - Cartesian Tree\",\n",
      "\"P7 - Get Out!\",\n",
      "\"P8 - Hedge Mazes\",]"
     ],
     "language": "python",
     "metadata": {},
     "outputs": [],
     "prompt_number": 150
    },
    {
     "cell_type": "code",
     "collapsed": false,
     "input": [
      "contestants =[\"itu\",\n",
      "\"Rxcso\",\n",
      "\"kvaleriano\",\n",
      "\"Hailo\",\n",
      "\"jael860\",\n",
      "\"jafc\",\n",
      "\"kirasam\",\n",
      "\"Lucas97\",\n",
      "\"The_Blitz\",\n",
      "\"Slsvcn\",\n",
      "\"juanjo12x\",\n",
      "\"Gerard901\",\n",
      "\"Robert_Alonso\",\n",
      "\"wirox91\",\n",
      "\"Dan212P\",]"
     ],
     "language": "python",
     "metadata": {},
     "outputs": [],
     "prompt_number": 151
    },
    {
     "cell_type": "code",
     "collapsed": false,
     "input": [
      "contest = Contest(contestants, problems)"
     ],
     "language": "python",
     "metadata": {},
     "outputs": [],
     "prompt_number": 152
    },
    {
     "cell_type": "code",
     "collapsed": false,
     "input": [
      "def toSubmition(row, begin):\n",
      "    return Submition(\n",
      "        handle = row[3],\n",
      "        problem = row[4],\n",
      "        seconds = (parse(row[-1]) - begin).total_seconds(),\n",
      "        veredict = Veredict.getVeredict(row[6]),\n",
      "    )"
     ],
     "language": "python",
     "metadata": {},
     "outputs": [],
     "prompt_number": 153
    },
    {
     "cell_type": "code",
     "collapsed": false,
     "input": [
      "from operator import attrgetter"
     ],
     "language": "python",
     "metadata": {},
     "outputs": [],
     "prompt_number": 154
    },
    {
     "cell_type": "code",
     "collapsed": false,
     "input": [
      "submitions = sorted([toSubmition(row, parse('2014-09-04 17:10:00')) for row in data], key=attrgetter('seconds'))"
     ],
     "language": "python",
     "metadata": {},
     "outputs": [],
     "prompt_number": 155
    },
    {
     "cell_type": "code",
     "collapsed": false,
     "input": [
      "timer = 450\n",
      "buckets = splitEach(submitions, timer, lambda x: x.seconds)"
     ],
     "language": "python",
     "metadata": {},
     "outputs": [],
     "prompt_number": 170
    },
    {
     "cell_type": "code",
     "collapsed": false,
     "input": [
      "contest = Contest(contestants, problems)\n",
      "ans = []\n",
      "for bucket in buckets:\n",
      "    for sub in bucket:\n",
      "        contest.apply(sub)\n",
      "    order = sorted(contest.getScoreboard(), key=lambda x: (-x.solved, x.penalty))\n",
      "    ans.append(order)\n",
      "len(ans)"
     ],
     "language": "python",
     "metadata": {},
     "outputs": [
      {
       "metadata": {},
       "output_type": "pyout",
       "prompt_number": 171,
       "text": [
        "19"
       ]
      }
     ],
     "prompt_number": 171
    },
    {
     "cell_type": "code",
     "collapsed": false,
     "input": [
      "import json\n",
      "f = open('../assets/data/scoreboard5.json', 'w+')"
     ],
     "language": "python",
     "metadata": {},
     "outputs": [],
     "prompt_number": 178
    },
    {
     "cell_type": "code",
     "collapsed": false,
     "input": [
      "json_data = {\n",
      "    'contestants': contestants,\n",
      "    'contests': [str(((idx + 1) * (timer/60)))+\"'\" for idx in  range(len(ans))],\n",
      "    'scoreboards': [[d.__dict__ for d in score] for score in ans],\n",
      "}"
     ],
     "language": "python",
     "metadata": {},
     "outputs": [],
     "prompt_number": 179
    },
    {
     "cell_type": "code",
     "collapsed": false,
     "input": [
      "json.dump(json_data, f)\n",
      "f.close()"
     ],
     "language": "python",
     "metadata": {},
     "outputs": [],
     "prompt_number": 180
    },
    {
     "cell_type": "code",
     "collapsed": false,
     "input": [
      "scoreboard = contest.getScoreboard()"
     ],
     "language": "python",
     "metadata": {},
     "outputs": [],
     "prompt_number": 181
    },
    {
     "cell_type": "code",
     "collapsed": false,
     "input": [
      "sorted(scoreboard, key=lambda x: (-x.solved, x.penalty))"
     ],
     "language": "python",
     "metadata": {},
     "outputs": [
      {
       "metadata": {},
       "output_type": "pyout",
       "prompt_number": 182,
       "text": [
        "[{Rxcso, 3, 12154.0},\n",
        " {Hailo, 3, 14726.0},\n",
        " {itu, 3, 27070.0},\n",
        " {jafc, 2, 8459.0},\n",
        " {kirasam, 2, 9253.0},\n",
        " {The_Blitz, 1, 4151.0},\n",
        " {kvaleriano, 1, 4929.0},\n",
        " {Robert_Alonso, 1, 5285.0},\n",
        " {Lucas97, 0, 0},\n",
        " {jael860, 0, 0},\n",
        " {Gerard901, 0, 0},\n",
        " {juanjo12x, 0, 0},\n",
        " {Slsvcn, 0, 0},\n",
        " {Dan212P, 0, 0},\n",
        " {wirox91, 0, 0}]"
       ]
      }
     ],
     "prompt_number": 182
    },
    {
     "cell_type": "code",
     "collapsed": false,
     "input": [
      "530390.0 / 60"
     ],
     "language": "python",
     "metadata": {},
     "outputs": [
      {
       "metadata": {},
       "output_type": "pyout",
       "prompt_number": 44,
       "text": [
        "8839.833333333334"
       ]
      }
     ],
     "prompt_number": 44
    },
    {
     "cell_type": "code",
     "collapsed": false,
     "input": [
      "661665.0 /60"
     ],
     "language": "python",
     "metadata": {},
     "outputs": [
      {
       "metadata": {},
       "output_type": "pyout",
       "prompt_number": 46,
       "text": [
        "11027.75"
       ]
      }
     ],
     "prompt_number": 46
    },
    {
     "cell_type": "code",
     "collapsed": false,
     "input": [
      "671265.0  / 60"
     ],
     "language": "python",
     "metadata": {},
     "outputs": [
      {
       "metadata": {},
       "output_type": "pyout",
       "prompt_number": 55,
       "text": [
        "11187.75"
       ]
      }
     ],
     "prompt_number": 55
    },
    {
     "cell_type": "code",
     "collapsed": false,
     "input": [],
     "language": "python",
     "metadata": {},
     "outputs": []
    }
   ],
   "metadata": {}
  }
 ]
}